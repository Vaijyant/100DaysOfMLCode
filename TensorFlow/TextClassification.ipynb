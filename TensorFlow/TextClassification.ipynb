{
 "cells": [
  {
   "cell_type": "markdown",
   "metadata": {},
   "source": [
    "# 2 Classify movie reviews: binary classification"
   ]
  },
  {
   "cell_type": "code",
   "execution_count": 1,
   "metadata": {},
   "outputs": [
    {
     "name": "stdout",
     "output_type": "stream",
     "text": [
      "1.9.0\n"
     ]
    }
   ],
   "source": [
    "import tensorflow as tf\n",
    "from tensorflow import keras\n",
    "\n",
    "import numpy as np\n",
    "\n",
    "print(tf.__version__)"
   ]
  },
  {
   "cell_type": "markdown",
   "metadata": {},
   "source": [
    "### Download the IMDB dataset"
   ]
  },
  {
   "cell_type": "code",
   "execution_count": 2,
   "metadata": {},
   "outputs": [
    {
     "name": "stdout",
     "output_type": "stream",
     "text": [
      "Downloading data from https://s3.amazonaws.com/text-datasets/imdb.npz\n",
      "17465344/17464789 [==============================] - 44s 3us/step\n"
     ]
    }
   ],
   "source": [
    "imdb = keras.datasets.imdb\n",
    "\n",
    "(train_data, train_labels), (test_data, test_labels) = imdb.load_data(num_words=10000)"
   ]
  },
  {
   "cell_type": "markdown",
   "metadata": {},
   "source": [
    "### Explore the data"
   ]
  },
  {
   "cell_type": "code",
   "execution_count": 3,
   "metadata": {},
   "outputs": [
    {
     "name": "stdout",
     "output_type": "stream",
     "text": [
      "Training entries: 25000, labels: 25000\n"
     ]
    }
   ],
   "source": [
    "print(\"Training entries: {}, labels: {}\".format(len(train_data), len(train_labels)))"
   ]
  },
  {
   "cell_type": "code",
   "execution_count": 4,
   "metadata": {},
   "outputs": [
    {
     "name": "stdout",
     "output_type": "stream",
     "text": [
      "[1, 14, 22, 16, 43, 530, 973, 1622, 1385, 65, 458, 4468, 66, 3941, 4, 173, 36, 256, 5, 25, 100, 43, 838, 112, 50, 670, 2, 9, 35, 480, 284, 5, 150, 4, 172, 112, 167, 2, 336, 385, 39, 4, 172, 4536, 1111, 17, 546, 38, 13, 447, 4, 192, 50, 16, 6, 147, 2025, 19, 14, 22, 4, 1920, 4613, 469, 4, 22, 71, 87, 12, 16, 43, 530, 38, 76, 15, 13, 1247, 4, 22, 17, 515, 17, 12, 16, 626, 18, 2, 5, 62, 386, 12, 8, 316, 8, 106, 5, 4, 2223, 5244, 16, 480, 66, 3785, 33, 4, 130, 12, 16, 38, 619, 5, 25, 124, 51, 36, 135, 48, 25, 1415, 33, 6, 22, 12, 215, 28, 77, 52, 5, 14, 407, 16, 82, 2, 8, 4, 107, 117, 5952, 15, 256, 4, 2, 7, 3766, 5, 723, 36, 71, 43, 530, 476, 26, 400, 317, 46, 7, 4, 2, 1029, 13, 104, 88, 4, 381, 15, 297, 98, 32, 2071, 56, 26, 141, 6, 194, 7486, 18, 4, 226, 22, 21, 134, 476, 26, 480, 5, 144, 30, 5535, 18, 51, 36, 28, 224, 92, 25, 104, 4, 226, 65, 16, 38, 1334, 88, 12, 16, 283, 5, 16, 4472, 113, 103, 32, 15, 16, 5345, 19, 178, 32]\n"
     ]
    }
   ],
   "source": [
    "print(train_data[0])"
   ]
  },
  {
   "cell_type": "code",
   "execution_count": 5,
   "metadata": {},
   "outputs": [
    {
     "data": {
      "text/plain": [
       "(218, 189)"
      ]
     },
     "execution_count": 5,
     "metadata": {},
     "output_type": "execute_result"
    }
   ],
   "source": [
    "len(train_data[0]), len(train_data[1])"
   ]
  },
  {
   "cell_type": "markdown",
   "metadata": {},
   "source": [
    "#### Convert the integers back to words"
   ]
  },
  {
   "cell_type": "code",
   "execution_count": 6,
   "metadata": {},
   "outputs": [
    {
     "name": "stdout",
     "output_type": "stream",
     "text": [
      "Downloading data from https://s3.amazonaws.com/text-datasets/imdb_word_index.json\n",
      "1646592/1641221 [==============================] - 4s 3us/step\n"
     ]
    }
   ],
   "source": [
    "# A dictionary mapping words to an integer index\n",
    "word_index = imdb.get_word_index()\n",
    "\n",
    "# The first indices are reserved\n",
    "word_index = {k:(v+3) for k,v in word_index.items()} \n",
    "word_index[\"<PAD>\"] = 0\n",
    "word_index[\"<START>\"] = 1\n",
    "word_index[\"<UNK>\"] = 2  # unknown\n",
    "word_index[\"<UNUSED>\"] = 3\n",
    "\n",
    "reverse_word_index = dict([(value, key) for (key, value) in word_index.items()])\n",
    "\n",
    "def decode_review(text):\n",
    "    return ' '.join([reverse_word_index.get(i, '?') for i in text])"
   ]
  },
  {
   "cell_type": "code",
   "execution_count": 7,
   "metadata": {},
   "outputs": [
    {
     "data": {
      "text/plain": [
       "\"<START> this film was just brilliant casting location scenery story direction everyone's really suited the part they played and you could just imagine being there robert <UNK> is an amazing actor and now the same being director <UNK> father came from the same scottish island as myself so i loved the fact there was a real connection with this film the witty remarks throughout the film were great it was just brilliant so much that i bought the film as soon as it was released for <UNK> and would recommend it to everyone to watch and the fly fishing was amazing really cried at the end it was so sad and you know what they say if you cry at a film it must have been good and this definitely was also <UNK> to the two little boy's that played the <UNK> of norman and paul they were just brilliant children are often left out of the <UNK> list i think because the stars that play them all grown up are such a big profile for the whole film but these children are amazing and should be praised for what they have done don't you think the whole story was so lovely because it was true and was someone's life after all that was shared with us all\""
      ]
     },
     "execution_count": 7,
     "metadata": {},
     "output_type": "execute_result"
    }
   ],
   "source": [
    "decode_review(train_data[0])"
   ]
  },
  {
   "cell_type": "markdown",
   "metadata": {},
   "source": [
    "### Prepare the data"
   ]
  },
  {
   "cell_type": "code",
   "execution_count": 8,
   "metadata": {},
   "outputs": [],
   "source": [
    "train_data = keras.preprocessing.sequence.pad_sequences(train_data,\n",
    "                                                        value=word_index[\"<PAD>\"],\n",
    "                                                        padding='post',\n",
    "                                                        maxlen=256)\n",
    "\n",
    "test_data = keras.preprocessing.sequence.pad_sequences(test_data,\n",
    "                                                       value=word_index[\"<PAD>\"],\n",
    "                                                       padding='post',\n",
    "                                                       maxlen=256)"
   ]
  },
  {
   "cell_type": "code",
   "execution_count": 9,
   "metadata": {},
   "outputs": [
    {
     "data": {
      "text/plain": [
       "(256, 256)"
      ]
     },
     "execution_count": 9,
     "metadata": {},
     "output_type": "execute_result"
    }
   ],
   "source": [
    "len(train_data[0]), len(train_data[1])"
   ]
  },
  {
   "cell_type": "code",
   "execution_count": 10,
   "metadata": {},
   "outputs": [
    {
     "name": "stdout",
     "output_type": "stream",
     "text": [
      "[   1   14   22   16   43  530  973 1622 1385   65  458 4468   66 3941\n",
      "    4  173   36  256    5   25  100   43  838  112   50  670    2    9\n",
      "   35  480  284    5  150    4  172  112  167    2  336  385   39    4\n",
      "  172 4536 1111   17  546   38   13  447    4  192   50   16    6  147\n",
      " 2025   19   14   22    4 1920 4613  469    4   22   71   87   12   16\n",
      "   43  530   38   76   15   13 1247    4   22   17  515   17   12   16\n",
      "  626   18    2    5   62  386   12    8  316    8  106    5    4 2223\n",
      " 5244   16  480   66 3785   33    4  130   12   16   38  619    5   25\n",
      "  124   51   36  135   48   25 1415   33    6   22   12  215   28   77\n",
      "   52    5   14  407   16   82    2    8    4  107  117 5952   15  256\n",
      "    4    2    7 3766    5  723   36   71   43  530  476   26  400  317\n",
      "   46    7    4    2 1029   13  104   88    4  381   15  297   98   32\n",
      " 2071   56   26  141    6  194 7486   18    4  226   22   21  134  476\n",
      "   26  480    5  144   30 5535   18   51   36   28  224   92   25  104\n",
      "    4  226   65   16   38 1334   88   12   16  283    5   16 4472  113\n",
      "  103   32   15   16 5345   19  178   32    0    0    0    0    0    0\n",
      "    0    0    0    0    0    0    0    0    0    0    0    0    0    0\n",
      "    0    0    0    0    0    0    0    0    0    0    0    0    0    0\n",
      "    0    0    0    0]\n"
     ]
    }
   ],
   "source": [
    "print(train_data[0])"
   ]
  },
  {
   "cell_type": "markdown",
   "metadata": {},
   "source": [
    "### Build the model"
   ]
  },
  {
   "cell_type": "code",
   "execution_count": 11,
   "metadata": {},
   "outputs": [
    {
     "name": "stdout",
     "output_type": "stream",
     "text": [
      "_________________________________________________________________\n",
      "Layer (type)                 Output Shape              Param #   \n",
      "=================================================================\n",
      "embedding (Embedding)        (None, None, 16)          160000    \n",
      "_________________________________________________________________\n",
      "global_average_pooling1d (Gl (None, 16)                0         \n",
      "_________________________________________________________________\n",
      "dense (Dense)                (None, 16)                272       \n",
      "_________________________________________________________________\n",
      "dense_1 (Dense)              (None, 1)                 17        \n",
      "=================================================================\n",
      "Total params: 160,289\n",
      "Trainable params: 160,289\n",
      "Non-trainable params: 0\n",
      "_________________________________________________________________\n"
     ]
    }
   ],
   "source": [
    "# input shape is the vocabulary count used for the movie reviews (10,000 words)\n",
    "vocab_size = 10000\n",
    "\n",
    "model = keras.Sequential()\n",
    "model.add(keras.layers.Embedding(vocab_size, 16))\n",
    "model.add(keras.layers.GlobalAveragePooling1D())\n",
    "model.add(keras.layers.Dense(16, activation=tf.nn.relu))\n",
    "model.add(keras.layers.Dense(1, activation=tf.nn.sigmoid))\n",
    "\n",
    "model.summary()"
   ]
  },
  {
   "cell_type": "code",
   "execution_count": 12,
   "metadata": {},
   "outputs": [],
   "source": [
    "model.compile(optimizer=tf.train.AdamOptimizer(),\n",
    "              loss='binary_crossentropy',\n",
    "              metrics=['accuracy'])"
   ]
  },
  {
   "cell_type": "markdown",
   "metadata": {},
   "source": [
    "### Create a validation set\n"
   ]
  },
  {
   "cell_type": "code",
   "execution_count": 13,
   "metadata": {},
   "outputs": [],
   "source": [
    "x_val = train_data[:10000]\n",
    "partial_x_train = train_data[10000:]\n",
    "\n",
    "y_val = train_labels[:10000]\n",
    "partial_y_train = train_labels[10000:]"
   ]
  },
  {
   "cell_type": "markdown",
   "metadata": {},
   "source": [
    "### Train the model\n"
   ]
  },
  {
   "cell_type": "code",
   "execution_count": 14,
   "metadata": {},
   "outputs": [
    {
     "name": "stdout",
     "output_type": "stream",
     "text": [
      "Train on 15000 samples, validate on 10000 samples\n",
      "Epoch 1/40\n",
      "15000/15000 [==============================] - 4s 290us/step - loss: 0.7042 - acc: 0.4967 - val_loss: 0.6918 - val_acc: 0.5319\n",
      "Epoch 2/40\n",
      "15000/15000 [==============================] - 4s 234us/step - loss: 0.6912 - acc: 0.5295 - val_loss: 0.6908 - val_acc: 0.5399\n",
      "Epoch 3/40\n",
      "15000/15000 [==============================] - 3s 219us/step - loss: 0.6893 - acc: 0.6019 - val_loss: 0.6887 - val_acc: 0.6244\n",
      "Epoch 4/40\n",
      "15000/15000 [==============================] - 4s 244us/step - loss: 0.6866 - acc: 0.6410 - val_loss: 0.6862 - val_acc: 0.6498\n",
      "Epoch 5/40\n",
      "15000/15000 [==============================] - 3s 232us/step - loss: 0.6833 - acc: 0.6737 - val_loss: 0.6826 - val_acc: 0.6850\n",
      "Epoch 6/40\n",
      "15000/15000 [==============================] - 4s 234us/step - loss: 0.6790 - acc: 0.7049 - val_loss: 0.6781 - val_acc: 0.7039\n",
      "Epoch 7/40\n",
      "15000/15000 [==============================] - 4s 234us/step - loss: 0.6731 - acc: 0.7183 - val_loss: 0.6722 - val_acc: 0.7103\n",
      "Epoch 8/40\n",
      "15000/15000 [==============================] - 4s 255us/step - loss: 0.6652 - acc: 0.7274 - val_loss: 0.6639 - val_acc: 0.7276\n",
      "Epoch 9/40\n",
      "15000/15000 [==============================] - 3s 228us/step - loss: 0.6548 - acc: 0.7478 - val_loss: 0.6528 - val_acc: 0.7379\n",
      "Epoch 10/40\n",
      "15000/15000 [==============================] - 4s 239us/step - loss: 0.6411 - acc: 0.7642 - val_loss: 0.6387 - val_acc: 0.7466\n",
      "Epoch 11/40\n",
      "15000/15000 [==============================] - 3s 215us/step - loss: 0.6246 - acc: 0.7593 - val_loss: 0.6223 - val_acc: 0.7593\n",
      "Epoch 12/40\n",
      "15000/15000 [==============================] - 4s 237us/step - loss: 0.6043 - acc: 0.7815 - val_loss: 0.6023 - val_acc: 0.7702\n",
      "Epoch 13/40\n",
      "15000/15000 [==============================] - 3s 225us/step - loss: 0.5808 - acc: 0.7922 - val_loss: 0.5808 - val_acc: 0.7820\n",
      "Epoch 14/40\n",
      "15000/15000 [==============================] - 4s 245us/step - loss: 0.5554 - acc: 0.8037 - val_loss: 0.5564 - val_acc: 0.7933\n",
      "Epoch 15/40\n",
      "15000/15000 [==============================] - 3s 220us/step - loss: 0.5280 - acc: 0.8167 - val_loss: 0.5311 - val_acc: 0.8027\n",
      "Epoch 16/40\n",
      "15000/15000 [==============================] - 4s 236us/step - loss: 0.5005 - acc: 0.8258 - val_loss: 0.5065 - val_acc: 0.8094\n",
      "Epoch 17/40\n",
      "15000/15000 [==============================] - 3s 222us/step - loss: 0.4723 - acc: 0.8415 - val_loss: 0.4822 - val_acc: 0.8237\n",
      "Epoch 18/40\n",
      "15000/15000 [==============================] - 4s 235us/step - loss: 0.4456 - acc: 0.8500 - val_loss: 0.4588 - val_acc: 0.8314\n",
      "Epoch 19/40\n",
      "15000/15000 [==============================] - 4s 248us/step - loss: 0.4205 - acc: 0.8595 - val_loss: 0.4375 - val_acc: 0.8389\n",
      "Epoch 20/40\n",
      "15000/15000 [==============================] - 3s 229us/step - loss: 0.3975 - acc: 0.8671 - val_loss: 0.4185 - val_acc: 0.8456\n",
      "Epoch 21/40\n",
      "15000/15000 [==============================] - 4s 236us/step - loss: 0.3762 - acc: 0.8751 - val_loss: 0.4013 - val_acc: 0.8516\n",
      "Epoch 22/40\n",
      "15000/15000 [==============================] - 4s 242us/step - loss: 0.3572 - acc: 0.8789 - val_loss: 0.3864 - val_acc: 0.8565\n",
      "Epoch 23/40\n",
      "15000/15000 [==============================] - 3s 230us/step - loss: 0.3406 - acc: 0.8846 - val_loss: 0.3738 - val_acc: 0.8581\n",
      "Epoch 24/40\n",
      "15000/15000 [==============================] - 4s 242us/step - loss: 0.3251 - acc: 0.8891 - val_loss: 0.3622 - val_acc: 0.8626\n",
      "Epoch 25/40\n",
      "15000/15000 [==============================] - 4s 247us/step - loss: 0.3115 - acc: 0.8930 - val_loss: 0.3525 - val_acc: 0.8657\n",
      "Epoch 26/40\n",
      "15000/15000 [==============================] - 3s 213us/step - loss: 0.2992 - acc: 0.8963 - val_loss: 0.3440 - val_acc: 0.8673 0.2986 - acc: 0.89\n",
      "Epoch 27/40\n",
      "15000/15000 [==============================] - 3s 220us/step - loss: 0.2883 - acc: 0.8995 - val_loss: 0.3365 - val_acc: 0.8694\n",
      "Epoch 28/40\n",
      "15000/15000 [==============================] - 4s 265us/step - loss: 0.2779 - acc: 0.9027 - val_loss: 0.3298 - val_acc: 0.8723\n",
      "Epoch 29/40\n",
      "15000/15000 [==============================] - 4s 299us/step - loss: 0.2685 - acc: 0.9057 - val_loss: 0.3245 - val_acc: 0.8734\n",
      "Epoch 30/40\n",
      "15000/15000 [==============================] - 3s 231us/step - loss: 0.2605 - acc: 0.9079 - val_loss: 0.3192 - val_acc: 0.8737\n",
      "Epoch 31/40\n",
      "15000/15000 [==============================] - 3s 232us/step - loss: 0.2518 - acc: 0.9117 - val_loss: 0.3150 - val_acc: 0.8759\n",
      "Epoch 32/40\n",
      "15000/15000 [==============================] - 4s 249us/step - loss: 0.2448 - acc: 0.9121 - val_loss: 0.3111 - val_acc: 0.8768\n",
      "Epoch 33/40\n",
      "15000/15000 [==============================] - 3s 230us/step - loss: 0.2373 - acc: 0.9157 - val_loss: 0.3077 - val_acc: 0.8792\n",
      "Epoch 34/40\n",
      "15000/15000 [==============================] - 4s 242us/step - loss: 0.2307 - acc: 0.9177 - val_loss: 0.3046 - val_acc: 0.8797\n",
      "Epoch 35/40\n",
      "15000/15000 [==============================] - 4s 266us/step - loss: 0.2249 - acc: 0.9195 - val_loss: 0.3018 - val_acc: 0.8797\n",
      "Epoch 36/40\n",
      "15000/15000 [==============================] - 4s 248us/step - loss: 0.2184 - acc: 0.9219 - val_loss: 0.2996 - val_acc: 0.8812\n",
      "Epoch 37/40\n",
      "15000/15000 [==============================] - 4s 257us/step - loss: 0.2128 - acc: 0.9244 - val_loss: 0.2977 - val_acc: 0.8807\n",
      "Epoch 38/40\n",
      "15000/15000 [==============================] - 4s 242us/step - loss: 0.2075 - acc: 0.9261 - val_loss: 0.2953 - val_acc: 0.8820\n",
      "Epoch 39/40\n",
      "15000/15000 [==============================] - 4s 251us/step - loss: 0.2020 - acc: 0.9295 - val_loss: 0.2938 - val_acc: 0.8817\n",
      "Epoch 40/40\n",
      "15000/15000 [==============================] - 4s 237us/step - loss: 0.1970 - acc: 0.9307 - val_loss: 0.2920 - val_acc: 0.8831\n"
     ]
    }
   ],
   "source": [
    "history = model.fit(partial_x_train,\n",
    "                    partial_y_train,\n",
    "                    epochs=40,\n",
    "                    batch_size=512,\n",
    "                    validation_data=(x_val, y_val),\n",
    "                    verbose=1)"
   ]
  },
  {
   "cell_type": "markdown",
   "metadata": {},
   "source": [
    "### Evaluate the model\n"
   ]
  },
  {
   "cell_type": "code",
   "execution_count": 16,
   "metadata": {},
   "outputs": [
    {
     "name": "stdout",
     "output_type": "stream",
     "text": [
      "25000/25000 [==============================] - 2s 94us/step\n",
      "[0.3070404488277435, 0.87392]\n"
     ]
    }
   ],
   "source": [
    "results = model.evaluate(test_data, test_labels)\n",
    "\n",
    "print(results)"
   ]
  },
  {
   "cell_type": "markdown",
   "metadata": {},
   "source": [
    "### Create a graph of accuracy and loss over time\n"
   ]
  },
  {
   "cell_type": "code",
   "execution_count": 17,
   "metadata": {},
   "outputs": [
    {
     "data": {
      "text/plain": [
       "dict_keys(['val_loss', 'val_acc', 'loss', 'acc'])"
      ]
     },
     "execution_count": 17,
     "metadata": {},
     "output_type": "execute_result"
    }
   ],
   "source": [
    "history_dict = history.history\n",
    "history_dict.keys()"
   ]
  },
  {
   "cell_type": "code",
   "execution_count": 18,
   "metadata": {},
   "outputs": [
    {
     "data": {
      "text/plain": [
       "<Figure size 640x480 with 1 Axes>"
      ]
     },
     "metadata": {},
     "output_type": "display_data"
    }
   ],
   "source": [
    "import matplotlib.pyplot as plt\n",
    "\n",
    "acc = history.history['acc']\n",
    "val_acc = history.history['val_acc']\n",
    "loss = history.history['loss']\n",
    "val_loss = history.history['val_loss']\n",
    "\n",
    "epochs = range(1, len(acc) + 1)\n",
    "\n",
    "# \"bo\" is for \"blue dot\"\n",
    "plt.plot(epochs, loss, 'bo', label='Training loss')\n",
    "# b is for \"solid blue line\"\n",
    "plt.plot(epochs, val_loss, 'b', label='Validation loss')\n",
    "plt.title('Training and validation loss')\n",
    "plt.xlabel('Epochs')\n",
    "plt.ylabel('Loss')\n",
    "plt.legend()\n",
    "\n",
    "plt.show()"
   ]
  },
  {
   "cell_type": "code",
   "execution_count": 19,
   "metadata": {},
   "outputs": [
    {
     "data": {
      "image/png": "[encoded data removed]",
      "text/plain": [
       "<Figure size 432x288 with 1 Axes>"
      ]
     },
     "metadata": {},
     "output_type": "display_data"
    }
   ],
   "source": [
    "plt.clf()   # clear figure\n",
    "acc_values = history_dict['acc']\n",
    "val_acc_values = history_dict['val_acc']\n",
    "\n",
    "plt.plot(epochs, acc, 'bo', label='Training acc')\n",
    "plt.plot(epochs, val_acc, 'b', label='Validation acc')\n",
    "plt.title('Training and validation accuracy')\n",
    "plt.xlabel('Epochs')\n",
    "plt.ylabel('Loss')\n",
    "plt.legend()\n",
    "\n",
    "plt.show()"
   ]
  },
  {
   "cell_type": "code",
   "execution_count": null,
   "metadata": {},
   "outputs": [],
   "source": []
  }
 ],
 "metadata": {
  "kernelspec": {
   "display_name": "Python 3",
   "language": "python",
   "name": "python3"
  },
  "language_info": {
   "codemirror_mode": {
    "name": "ipython",
    "version": 3
   },
   "file_extension": ".py",
   "mimetype": "text/x-python",
   "name": "python",
   "nbconvert_exporter": "python",
   "pygments_lexer": "ipython3",
   "version": "3.6.0"
  }
 },
 "nbformat": 4,
 "nbformat_minor": 2
}
